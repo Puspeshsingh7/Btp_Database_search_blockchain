{
  "nbformat": 4,
  "nbformat_minor": 0,
  "metadata": {
    "colab": {
      "name": "BTP_Database_Search.ipynb",
      "provenance": [],
      "collapsed_sections": []
    },
    "kernelspec": {
      "display_name": "Python 3",
      "name": "python3"
    },
    "language_info": {
      "name": "python"
    }
  },
  "cells": [
    {
      "cell_type": "code",
      "metadata": {
        "colab": {
          "base_uri": "https://localhost:8080/"
        },
        "id": "BOZErWC8Hxt9",
        "outputId": "bbb32391-a651-41c0-8c09-1a6b5a7fc76c"
      },
      "source": [
        "!pip install cryptography"
      ],
      "execution_count": null,
      "outputs": [
        {
          "output_type": "stream",
          "name": "stdout",
          "text": [
            "Collecting cryptography\n",
            "  Downloading cryptography-36.0.0-cp36-abi3-manylinux_2_24_x86_64.whl (3.6 MB)\n",
            "\u001b[K     |████████████████████████████████| 3.6 MB 8.8 MB/s \n",
            "\u001b[?25hRequirement already satisfied: cffi>=1.12 in /usr/local/lib/python3.7/dist-packages (from cryptography) (1.15.0)\n",
            "Requirement already satisfied: pycparser in /usr/local/lib/python3.7/dist-packages (from cffi>=1.12->cryptography) (2.21)\n",
            "Installing collected packages: cryptography\n",
            "Successfully installed cryptography-36.0.0\n"
          ]
        }
      ]
    },
    {
      "cell_type": "markdown",
      "metadata": {
        "id": "menUSn4Nhr_A"
      },
      "source": [
        "# **Utlity Functions**"
      ]
    },
    {
      "cell_type": "code",
      "metadata": {
        "id": "z6ztHHPeXnvU"
      },
      "source": [
        "# Convert to string in ascii from numeric representation of triplets\n",
        "def convert(a) :\n",
        "    l = len(a)\n",
        "    s = \"\"\n",
        "    \n",
        "    idx = 0\n",
        "    while idx < l :\n",
        "        temp = a[idx:idx+3]\n",
        "        s = s + chr(int(temp))\n",
        "        idx = idx + 3\n",
        "        \n",
        "    return s\n",
        "\n",
        "# Creating a random salt of length n\n",
        "import string\n",
        "import random\n",
        "\n",
        "def get_random_salt(n) :\n",
        "  \n",
        "    salt=\"\"\n",
        "    for i in range(n):\n",
        "        salt=salt+random.choice(string.ascii_letters)\n",
        "\n",
        "    return salt\n",
        "\n",
        "# Get a random encryption key\n",
        "from cryptography.fernet import Fernet\n",
        "\n",
        "def get_random_encryptkey() :\n",
        "\n",
        "    encrypt_key = Fernet.generate_key()\n",
        "    # fernet = Fernet(key)\n",
        "    return encrypt_key\n"
      ],
      "execution_count": null,
      "outputs": []
    },
    {
      "cell_type": "code",
      "metadata": {
        "id": "lUy8zcJ1GLSK"
      },
      "source": [
        "# Take XOR of string a and string b\n",
        "def XOR1(a, b) :\n",
        "    res = \"\"\n",
        "    i = 0\n",
        "    j = 0\n",
        "    \n",
        "    while (i<len(a) and j<len(b)) :\n",
        "        \n",
        "        temp = str(ord(a[i]) ^ ord(b[j])) \n",
        "        \n",
        "        if len(temp) == 1 :\n",
        "            temp = \"00\" + temp\n",
        "        elif len(temp) == 2 :\n",
        "            temp = \"0\" + temp\n",
        "        \n",
        "        res += temp\n",
        "        i = i + 1\n",
        "        j = j + 1\n",
        "    \n",
        "    while i<len(a) :\n",
        "        \n",
        "        temp = str(ord(a[i])) \n",
        "        \n",
        "        if len(temp) == 1 :\n",
        "            temp = \"00\" + temp\n",
        "        elif len(temp) == 2 :\n",
        "            temp = \"0\" + temp\n",
        "        \n",
        "        res += temp\n",
        "        i = i + 1\n",
        "        \n",
        "    while j<len(b) :\n",
        "        \n",
        "        temp = str(ord(b[j])) \n",
        "        \n",
        "        if len(temp) == 1 :\n",
        "            temp = \"00\" + temp\n",
        "        elif len(temp) == 2 :\n",
        "            temp = \"0\" + temp\n",
        "        \n",
        "        res += temp\n",
        "        j = j + 1\n",
        "        \n",
        "    return res      \n"
      ],
      "execution_count": null,
      "outputs": []
    },
    {
      "cell_type": "markdown",
      "metadata": {
        "id": "BZ5ffn8Wh_2L"
      },
      "source": [
        "# **Connecting with MySQL**"
      ]
    },
    {
      "cell_type": "code",
      "metadata": {
        "colab": {
          "base_uri": "https://localhost:8080/"
        },
        "id": "2mFJO2IDbudQ",
        "outputId": "4d0aacf3-1362-4ba5-8a72-5373436f2cf4"
      },
      "source": [
        "pip install mysql-connector-python-rf"
      ],
      "execution_count": null,
      "outputs": [
        {
          "output_type": "stream",
          "name": "stdout",
          "text": [
            "Collecting mysql-connector-python-rf\n",
            "  Downloading mysql-connector-python-rf-2.2.2.tar.gz (11.9 MB)\n",
            "\u001b[K     |████████████████████████████████| 11.9 MB 6.0 MB/s \n",
            "\u001b[?25hBuilding wheels for collected packages: mysql-connector-python-rf\n",
            "  Building wheel for mysql-connector-python-rf (setup.py) ... \u001b[?25l\u001b[?25hdone\n",
            "  Created wheel for mysql-connector-python-rf: filename=mysql_connector_python_rf-2.2.2-cp37-cp37m-linux_x86_64.whl size=249476 sha256=f857227b978c96db312dc95e0915a3f1ad48f3157fd1f2a0310639213074752f\n",
            "  Stored in directory: /root/.cache/pip/wheels/68/59/cf/3b03557b26b4c75af3788a553e0ff9cf0b37a22d0c9cb01979\n",
            "Successfully built mysql-connector-python-rf\n",
            "Installing collected packages: mysql-connector-python-rf\n",
            "Successfully installed mysql-connector-python-rf-2.2.2\n"
          ]
        }
      ]
    },
    {
      "cell_type": "code",
      "metadata": {
        "colab": {
          "base_uri": "https://localhost:8080/",
          "height": 262
        },
        "id": "uylVHZtHcuRr",
        "outputId": "d6892a55-9017-453a-b7ac-43cc44f69aed"
      },
      "source": [
        "# install, set connection\n",
        "!apt-get install mysql-server > /dev/null\n",
        "!service mysql start\n",
        "!mysql -e \"ALTER USER 'root'@'localhost' IDENTIFIED WITH mysql_native_password BY 'root'\"\n",
        "!pip -q install PyMySQL\n",
        "%load_ext sql\n",
        "%config SqlMagic.feedback=False \n",
        "%config SqlMagic.autopandas=True\n",
        "%sql mysql+pymysql://root:root@/\n",
        "# query using %sql or %%sql\n",
        "df = %sql SELECT Host, User, authentication_string FROM mysql.user\n",
        "df"
      ],
      "execution_count": null,
      "outputs": [
        {
          "output_type": "stream",
          "name": "stdout",
          "text": [
            " * Starting MySQL database server mysqld\n",
            "No directory, logging in with HOME=/\n",
            "   ...done.\n",
            "\u001b[K     |████████████████████████████████| 43 kB 1.3 MB/s \n",
            "\u001b[?25h * mysql+pymysql://root:***@/\n"
          ]
        },
        {
          "output_type": "execute_result",
          "data": {
            "text/html": [
              "<div>\n",
              "<style scoped>\n",
              "    .dataframe tbody tr th:only-of-type {\n",
              "        vertical-align: middle;\n",
              "    }\n",
              "\n",
              "    .dataframe tbody tr th {\n",
              "        vertical-align: top;\n",
              "    }\n",
              "\n",
              "    .dataframe thead th {\n",
              "        text-align: right;\n",
              "    }\n",
              "</style>\n",
              "<table border=\"1\" class=\"dataframe\">\n",
              "  <thead>\n",
              "    <tr style=\"text-align: right;\">\n",
              "      <th></th>\n",
              "      <th>Host</th>\n",
              "      <th>User</th>\n",
              "      <th>authentication_string</th>\n",
              "    </tr>\n",
              "  </thead>\n",
              "  <tbody>\n",
              "    <tr>\n",
              "      <th>0</th>\n",
              "      <td>localhost</td>\n",
              "      <td>root</td>\n",
              "      <td>*81F5E21E35407D884A6CD4A731AEBFB6AF209E1B</td>\n",
              "    </tr>\n",
              "    <tr>\n",
              "      <th>1</th>\n",
              "      <td>localhost</td>\n",
              "      <td>mysql.session</td>\n",
              "      <td>*THISISNOTAVALIDPASSWORDTHATCANBEUSEDHERE</td>\n",
              "    </tr>\n",
              "    <tr>\n",
              "      <th>2</th>\n",
              "      <td>localhost</td>\n",
              "      <td>mysql.sys</td>\n",
              "      <td>*THISISNOTAVALIDPASSWORDTHATCANBEUSEDHERE</td>\n",
              "    </tr>\n",
              "    <tr>\n",
              "      <th>3</th>\n",
              "      <td>localhost</td>\n",
              "      <td>debian-sys-maint</td>\n",
              "      <td>*5BEBF7FE37CD488CD634F9C542C1C481E0BEFB3C</td>\n",
              "    </tr>\n",
              "  </tbody>\n",
              "</table>\n",
              "</div>"
            ],
            "text/plain": [
              "        Host              User                      authentication_string\n",
              "0  localhost              root  *81F5E21E35407D884A6CD4A731AEBFB6AF209E1B\n",
              "1  localhost     mysql.session  *THISISNOTAVALIDPASSWORDTHATCANBEUSEDHERE\n",
              "2  localhost         mysql.sys  *THISISNOTAVALIDPASSWORDTHATCANBEUSEDHERE\n",
              "3  localhost  debian-sys-maint  *5BEBF7FE37CD488CD634F9C542C1C481E0BEFB3C"
            ]
          },
          "metadata": {},
          "execution_count": 5
        }
      ]
    },
    {
      "cell_type": "code",
      "metadata": {
        "colab": {
          "base_uri": "https://localhost:8080/"
        },
        "id": "3YW9emTabBDH",
        "outputId": "3c1f9871-af41-41c3-bbf7-509c52985fcb"
      },
      "source": [
        "import mysql.connector\n",
        "\n",
        "mydb = mysql.connector.connect(\n",
        "  host=\"localhost\",\n",
        "  user=\"root\",\n",
        "  password=\"root\"\n",
        ")\n",
        "\n",
        "print(mydb)"
      ],
      "execution_count": null,
      "outputs": [
        {
          "output_type": "stream",
          "name": "stdout",
          "text": [
            "<mysql.connector.connection.MySQLConnection object at 0x7efe68ad5e90>\n"
          ]
        }
      ]
    },
    {
      "cell_type": "markdown",
      "metadata": {
        "id": "7DnN3PX-iFw_"
      },
      "source": [
        "# **Part 1 : Store Data in Database**"
      ]
    },
    {
      "cell_type": "code",
      "metadata": {
        "id": "jNs3DRSXqf8f"
      },
      "source": [
        "mycursor = mydb.cursor()"
      ],
      "execution_count": null,
      "outputs": []
    },
    {
      "cell_type": "code",
      "metadata": {
        "id": "V2bMlyQAV-er"
      },
      "source": [
        "mycursor.execute(\"DROP DATABASE btp\")"
      ],
      "execution_count": null,
      "outputs": []
    },
    {
      "cell_type": "code",
      "metadata": {
        "id": "TF8X3Y0lU4A4"
      },
      "source": [
        "mycursor.execute(\"CREATE DATABASE btp\")"
      ],
      "execution_count": null,
      "outputs": []
    },
    {
      "cell_type": "code",
      "metadata": {
        "colab": {
          "base_uri": "https://localhost:8080/"
        },
        "id": "Ah5OQYavxJQ6",
        "outputId": "35f820df-6439-4e0e-9e2b-5ef3f88f6ff1"
      },
      "source": [
        "mycursor.execute(\"SHOW DATABASES\")\n",
        "for x in mycursor:\n",
        "  print(x)"
      ],
      "execution_count": null,
      "outputs": [
        {
          "output_type": "stream",
          "name": "stdout",
          "text": [
            "('information_schema',)\n",
            "('btp',)\n",
            "('mysql',)\n",
            "('performance_schema',)\n",
            "('sys',)\n"
          ]
        }
      ]
    },
    {
      "cell_type": "code",
      "metadata": {
        "id": "0X33L5YwyYxN"
      },
      "source": [
        "import mysql.connector\n",
        "\n",
        "mydb = mysql.connector.connect(\n",
        "  host=\"localhost\",\n",
        "  user=\"root\",\n",
        "  password=\"root\",\n",
        "  database='btp'\n",
        ")\n",
        "\n",
        "mycursor = mydb.cursor()"
      ],
      "execution_count": null,
      "outputs": []
    },
    {
      "cell_type": "code",
      "metadata": {
        "id": "M0eEwRQi0BPx"
      },
      "source": [
        "table_name = \"customers\"\n",
        "columns = ['id', 'name', 'city', 'wallet_balance']\n",
        "data = [ ('1', 'Mangesh', 'Umarkhed', '100'),\n",
        "        ('2', 'Puspesh', 'Patna', '200'),\n",
        "        ('3', 'Ritwiz', 'Delhi', '150'),\n",
        "        ('4', 'Pranay', 'Delhi', '190'),\n",
        "        ('5', 'Harsh', 'Agra', '120') ]"
      ],
      "execution_count": null,
      "outputs": []
    },
    {
      "cell_type": "code",
      "metadata": {
        "id": "WmNtVftCxlUy"
      },
      "source": [
        "def store_data(table_name, columns, data) :\n",
        "\n",
        "    # create table query, first column shoud be id/primary key\n",
        "    create_query = \"CREATE TABLE \" + table_name + \" (\" + columns[0] + \" VARCHAR(511) PRIMARY KEY\"\n",
        "\n",
        "    for idx in range(1,len(columns)):\n",
        "        create_query += \", \" + columns[idx] + \" VARCHAR(511)\"\n",
        "    \n",
        "    create_query += \")\"\n",
        "\n",
        "    mycursor.execute(create_query)\n",
        "\n",
        "    # insert data query \n",
        "    insert_query = \"INSERT INTO \" + table_name + \" (\" + columns[0]\n",
        "\n",
        "    for idx in range(1,len(columns)):\n",
        "        insert_query += \", \" + columns[idx]\n",
        "    \n",
        "    insert_query += \") VALUES (\" + \"%s\"\n",
        "\n",
        "    for idx in range(1,len(columns)):\n",
        "        insert_query += \", %s\"\n",
        "\n",
        "    insert_query += \")\"\n",
        "\n",
        "    id_and_salts = []\n",
        "    encrypt_key = get_random_encryptkey();\n",
        "    fernet = Fernet(encrypt_key)\n",
        "    encrypted_data = []\n",
        "    \n",
        "    for idx in range(len(data)):\n",
        "        encrypted_data.append(list(data[idx]))\n",
        "\n",
        "    for row in range(len(data)) :\n",
        "      \n",
        "        encrypted_id = fernet.encrypt(data[row][0].encode('utf-8'))\n",
        "        salt = get_random_salt(len(encrypted_id))\n",
        "        \n",
        "        id_and_salts.append(encrypted_id)\n",
        "        id_and_salts.append(salt)\n",
        "\n",
        "        encrypted_data[row][0] = XOR1(str(encrypted_id),salt)\n",
        "\n",
        "        for col in range(1,len(data[0])) :\n",
        "\n",
        "            encrypted_data[row][col] = XOR1(str(fernet.encrypt(data[row][col].encode('utf-8'))), salt)\n",
        "                \n",
        "    mycursor.executemany(insert_query, encrypted_data)\n",
        "    mydb.commit()\n",
        "\n",
        "    print(\"Encryption Key :\", encrypt_key)\n",
        "\n",
        "    idx = 0\n",
        "    print(\"Encrypted Primary Key and Salt :\")\n",
        "    while idx < len(id_and_salts) :\n",
        "        if idx == 0:\n",
        "            print(str(id_and_salts[idx]) + \",\" + id_and_salts[idx+1])\n",
        "        else :\n",
        "            print(\",\" + str(id_and_salts[idx]) + \",\" + id_and_salts[idx+1])\n",
        "        idx = idx + 2\n"
      ],
      "execution_count": null,
      "outputs": []
    },
    {
      "cell_type": "code",
      "metadata": {
        "id": "qgY4KKWBANtS",
        "colab": {
          "base_uri": "https://localhost:8080/"
        },
        "outputId": "3dfd9305-9fe9-4c47-a29c-a17e039e2c32"
      },
      "source": [
        "store_data(table_name, columns, data)"
      ],
      "execution_count": null,
      "outputs": [
        {
          "output_type": "stream",
          "name": "stdout",
          "text": [
            "Encryption Key : b'yJPjPfhNXxNDTrRpjeO1MxR0Qdx7WunT6u96HgjU7YI='\n",
            "Encrypted Primary Key and Salt :\n",
            "b'gAAAAABhpfRNgw9c3epnjiG_S4OrmQkwdS3y5gC-Rmq6QMsPjE0J_RH6Sdvfja6OeD3btdh0u50YYDA-mFtEJCvi33CEgYveVQ==',QQniafuwaJzsMgYRvAwtZtuEdqnBaioFDnogobLzIzApdjjjEdGWGjBIBUKkFoobNunERtsOfrsXmbkNRkcYUaTkECMVwliTowVA\n",
            ",b'gAAAAABhpfRN6J5XvErrUMfyYCbrxmGsNOJQvFr4Jn5Po-eAvMnFrqugz0cttMhZIsqOCOxvglF_nOwdWno-I-9_oqtVFCIHEQ==',bySrmKndMWdPAvZdhyyQvwrQkOrGnHxrpbqovDraXgiQEwEaxrRFGFlsYMuRruZfBBtMQDNKPqHjZyMluWPbXTgFvcZMJdOFbItm\n",
            ",b'gAAAAABhpfRNhAqpi_PG2pj8q7jTdaao4G60xtwVbWn1Uthzn0FBziF1oMhw_BuOvCQdko3oZCHGz_aJ7FjV3A7juUXgU392hQ==',TWmduBnPEeMPbAPsYWoUxCJnMfdYlrZIfSTKgmwogSLVcarSJfOrgMgmbmopkLEAzHMPBtifrvIFHaVYovYwjNLOmLNtaGygGDgz\n",
            ",b'gAAAAABhpfRNfVHie8b4Az2SjTBSk3OkXaQ0c39Y75URirG1YrQXBS3tgqDRDvEzOD5LRrydSCJ3lST6omj5x8Xo3lITG7QVVw==',OYsswyMmgeKSrvuBcleOvnUqiVIFTsPkgsQvEunRemSSIGWyPRYFzZtnNcgjauNckjGREcfwCOueeTcUJszWztdrlASbowKdviLm\n",
            ",b'gAAAAABhpfRNodZbcMjaW14uWSjC5rhXR8Ph6fZrTcnRm7cRflpB_L65uR_zHPPf3H-7RXEdXWdIqP3o_kbKRymBpH6V9np_wQ==',OqvaDNhgxIwyQhlDNHwmaFvyScQuPoyRnZiYYKdaNbJwPEVhcuPYbUpTWRtciMYrfuCIrTxRGXeZjcryLafLYsStILtUnmchanLG\n"
          ]
        }
      ]
    },
    {
      "cell_type": "code",
      "metadata": {
        "colab": {
          "base_uri": "https://localhost:8080/"
        },
        "id": "DWG7sjdaWRfU",
        "outputId": "2b68e781-bffc-4367-865c-b4f58f4d857f"
      },
      "source": [
        "mycursor.execute(\"SHOW TABLES\")\n",
        "for x in mycursor:\n",
        "  print(x)"
      ],
      "execution_count": null,
      "outputs": [
        {
          "output_type": "stream",
          "name": "stdout",
          "text": [
            "('customers',)\n"
          ]
        }
      ]
    },
    {
      "cell_type": "code",
      "metadata": {
        "colab": {
          "base_uri": "https://localhost:8080/"
        },
        "id": "EU_9adQIW2lj",
        "outputId": "23a5543d-e1a8-4094-a5e7-2fedc2cadced"
      },
      "source": [
        "mycursor.execute(\"SELECT * from customers\")\n",
        "for x in mycursor:\n",
        "  print(x)"
      ],
      "execution_count": null,
      "outputs": [
        {
          "output_type": "stream",
          "name": "stdout",
          "text": [
            "('005065048010055027055027041026032003055004018043024059055016060097049010007030044030091055052042056016020088127093015037051042047079043106014092009047047005009018063026007045037079083000037125054005037034049008024016033014077037003062029024072068101025024051053062005054054031014059081109096097033048061061039', '005065048010055027055027041026032003055004050025064027044008040005035010036103033088091048060059035015046031028051052081105025023061089040054087076027079035060014026014001123033012050062015028081066088045036034066052068124058013028063035015060077099041048007050028020036030002064052046047001060004022061061039', '005065048010055027055027041026032003055004060046003052046029056058015057035003030006022056063004063031011009059043109000056122097027085106018059047049047056041102089031020119013043083039051025030032088031030045022010032063072051054020016113009032101047040048019026123023034025060057035019034051002048061061039', '005065048010055027055027041026032003055004025051069010047059057029004093001003011023094026058025065008051009059011018048060006041034059050011048018025001031009104048007050114014026003006030011031065005051047002012006016010051050053115057003039036027009059034035043011078042032059021095037061061016022061061039')\n",
            "('008081050050041023023021049044043020005037113000030039011053031004069040040004000078015056032003000031027054001031046017038025015035002037011012035053007036024018109051089011082063048088103020002007045057001018035045061002020029002030008092063004009121054027035057026038052101019005005013012096027038061061039', '008081050050041023023021049044043020005037024021049088121049018062060036037038025077061030059045012048030021030053094044038048070048025063003040051094044019031116000000007081019057022047047099059037012036000038124045040017025032039003024049023042040034018004014126004125059059031055001046053010016016061061039', '008081050050041023023021049044043020005037054000096055043062022055070000011037049074006062074017080002021058089012040098033011033020038050049006104050047037016027005088095079014007016063006039006034049056025055027041087001015010030074050008100027110114077030060061037063019052045052090057013020047016061061039', '008081050050041023023021049044043020005037000052005052040065086053030021042013011003039018054003017063060005029011018061055020003049000023031001125047045004030061107025039044022058021026016038020002082020074052052023092005005033010060025018013094019115076068045027012126062037029095013030055022079016061061039')\n",
            "('019066000027007039007039017039022000027045001083031006106023014033026005040064035022031026028040036008051092017053123062064015016003054012054029062083058014082019020051073016017021025030092001019005040014037042025006115052012059018015002051004049048119006093127028012001003022026094048000023003017005061061039', '019066000027007039007039017039022000027045039049059058016048090014060042003016118041004018031017061020073041044033034125049124029031012087022054086040000036026007001039016109084042038010066099055039041002004044054035048053022051006015088014001014052021052089001027090042024012026018035046018029116051061061039', '019066000027007039007039017039022000027045009039089027037030033018096029024053044000021026020002106017092036039045033127078042033057002003058093042092003026017036123013017019027012059036030009027061114050121092025040019030006015012032045014058092037060067000126032038039106002059045013061042035115051061061039', '019066000027007039007039017039022000027045105034012005062034066007039041019064118021052045036033113030043035004106004061078046082036017046105009084059002033001003029005021031055060040126010031020058049050100008083028016019037105028094029048039034065015064014008097005042032000055013006012050126049051061061039')\n",
            "('024085006044014051012048010048030062027008012032010002091020036024044060018058122027035029065028027026018002039000081119034015021001015032035018049036051087029026024047041019043029030066013021032038016102123082033027035008018017058032115014026010002017025001034035051056082022026106043029085104015052061061039', '024085006044014051012048010048030062027008043034062046047005085048054028049025056090031019007013011044029023040051059004050010011008044016050062087045012036124004041040062051010008033039037119015061042101122041050040044119029016000009049126022029000018043054000079025018048030043007007104083015031036061061039', '024085006044014051012048010048030062027008063002059032000042000044036045056055031071094032065049002056025050032036001015061054053041009043026057031015036055039001036018015088010055030061011039058001045048024022039032057030029023045001047013042021127026047067004006089046017078015035034026040047059018061061039', '024085006044014051012048010048030062027008025018050097047114083008061127024024004003060117078022063046006066053015036016011099045046012022063009003013009093025010018007025008033020083054055018063008095102058002084046063005097098012012038124061043004047019006026014087064018009063098025021006011051002061061039')\n",
            "('058075018027010042057052000039009041027046029043063118001105009018044023050019023115034016122011008004079006044059039052015007042021030025047049055012013089029000010008028058000024011057055015026017045015066046031017126062043064034005104084030061089035051021018096028057039104007127054005029102020027061061039', '058075018027010042057052000039009041027046057013061030014006001011111027001014060005031073127032032022060051063061076051069041043026049027036012052027038025044026044121059000120069039042063012049003065039065007018002011062055011039028099079006009063010032018035109018041057054043127054083049000008011061061039', '058075018027010042057052000039009041027046027019055012015016001101019035060000035008059029023043041015032014045050035003056044116064112020021012054062051036071046016126018018060034089053013009033004053113035093026046020022089013026038001029051023058018058030030031071078026061035125056021040060046011061061039', '058075018027010042057052000039009041027046026029051016030019018035053023015050011019080053122033009124042029061027059065046008001094025001014004003037100000050045010021011073062064014035020027032088062113035044118044008116080055022052055075040032056022037098037026056006021048042040061048041051001027061061039')\n"
          ]
        }
      ]
    },
    {
      "cell_type": "markdown",
      "metadata": {
        "id": "MhumCRJTTC8s"
      },
      "source": [
        "# **PART 2 : Making Query from MySQL**"
      ]
    },
    {
      "cell_type": "code",
      "metadata": {
        "colab": {
          "base_uri": "https://localhost:8080/"
        },
        "id": "ACkuo-6zTJAr",
        "outputId": "0bddb28a-b27b-4257-d200-04a63ed6d9ba"
      },
      "source": [
        "\n",
        "# Get from result of store_data \n",
        "key1=b'yJPjPfhNXxNDTrRpjeO1MxR0Qdx7WunT6u96HgjU7YI='\n",
        "EncPrimary_key=\"b'gAAAAABhpfRNodZbcMjaW14uWSjC5rhXR8Ph6fZrTcnRm7cRflpB_L65uR_zHPPf3H-7RXEdXWdIqP3o_kbKRymBpH6V9np_wQ=='\"\n",
        "\n",
        "# Get from Blockchain\n",
        "salt_str=\"OqvaDNhgxIwyQhlDNHwmaFvyScQuPoyRnZiYYKdaNbJwPEVhcuPYbUpTWRtciMYrfuCIrTxRGXeZjcryLafLYsStILtUnmchanLG\"\n",
        "\n",
        "Idd=(XOR1(salt_str,EncPrimary_key), )\n",
        "\n",
        "query = \"SELECT name from customers where id= %s\"\n",
        "mycursor.execute(query,Idd)\n",
        "res=\"\"\n",
        "for x in mycursor:\n",
        "  #print(x)\n",
        "  res=x\n",
        "\n",
        "Encrypted_res=XOR1(convert(res[0]),salt_str)\n",
        "#print(Encrypted_res)\n",
        "#print(type(res[0]))\n",
        "fernet1=Fernet(key1)\n",
        "temp=convert(Encrypted_res)\n",
        "print(temp)\n",
        "s1=temp[1:len(temp)]\n",
        "decMessage = fernet1.decrypt(s1.encode('utf-8')).decode()\n",
        "\n",
        "print(\"\\n\\nDecrypted string: \", decMessage)"
      ],
      "execution_count": null,
      "outputs": [
        {
          "output_type": "stream",
          "name": "stdout",
          "text": [
            "b'gAAAAABhpfRNgoSSigRfeQkaPpoEJkQGcjvIsPLLAUR6Zym9dMistlXFuqJ-djaha1yk_-gxGv_PQ4-kpPI_OnHEv2yPh0yEbg=='\n",
            "\n",
            "\n",
            "Decrypted string:  Pranay\n"
          ]
        }
      ]
    }
  ]
}